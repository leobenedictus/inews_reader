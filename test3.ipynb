{
 "cells": [
  {
   "cell_type": "code",
   "execution_count": 4,
   "metadata": {},
   "outputs": [],
   "source": [
    "import requests\n",
    "from bs4 import BeautifulSoup\n",
    "\n",
    "url = \"https://inews.co.uk/news/politics/reform-uk-tory-mps-defect-nigel-farage-brexit-not-done-2221151?ico=most_popular\"\n",
    "\n",
    "response = requests.get(url)\n",
    "webpage = response.content\n",
    "soup = BeautifulSoup(webpage, \"html.parser\")\n",
    "\n",
    "headline = soup.find(\"h1\").get_text()\n",
    "standfirst = soup.find(\"h2\").get_text()\n",
    "copy_mess = soup.find_all(\"p\")\n",
    "\n",
    "copy = \" \".join(str(p) for p in copy_mess)"
   ]
  },
  {
   "cell_type": "code",
   "execution_count": 5,
   "metadata": {},
   "outputs": [
    {
     "data": {
      "text/plain": [
       "'<p><a href=\"https://inews.co.uk/news/politics/nigel-farage-reform-uk-latest-fight-covid-19-lockdowns-local-elections-745817?ico=in-line_link\">Reform UK </a>has branded the Conservatives and Labour as “two sides of the same socialist coin” as it announced plans to take on Rishi Sunak’s party at <a href=\"https://inews.co.uk/news/next-general-election-next-uk-vote-budget-2211123?ico=in-line_link\">the next general election</a>.</p> <p>The <a href=\"https://inews.co.uk/news/politics/reform-uk-leader-hints-at-red-wall-tory-mps-defections-to-his-pro-brexit-party-at-next-election-1996508?ico=in-line_link\">party’s leader, Richard Tice</a>, said he would “welcome” defections from disillusioned Conservative MPs, and insisted there was a “huge appetite” for Reform UK across the country.</p> <p>Speaking at a press conference in Westminster, he said: “There’s no question there are some very disaffected Tory MPs.”</p> <p>“But what we’re seeing at the moment is a sort of ‘support Sunak’ operation that is disgraceful, because they are trying to prop up their failing party as opposed to do what is right for the country.”</p> <p>He urged MPs to consider that the “future of the country is at stake”, and added: “They know where we are, they know our telephone number. That’s all I’m gonna say.”</p> <p>Mr Tice went on to set out that the party was going to put forward around 500 candidates at the local elections in May, and around 630 candidates in the next general election, which is set to take place in 2024.</p> <p>He insisted that there was a “huge appetite” for Reform UK at the polls, claiming that Labour and the Conservatives have become “two sides of the same socialist coin” and the current Government has “completely blown it” leaving the country in a “shocking state”.</p> <p>Nigel Farage,<a href=\"https://inews.co.uk/news/politics/nigel-farage-politics-reform-uk-conservatives-brexit-migrants-1994950?ico=in-line_link\"> the party’s president and founder under its previous name of the Brexit Party</a>, also said that Brexit “has not been completed” despite the UK having left the EU.</p> <p>“<a href=\"https://inews.co.uk/category/news/brexit?ico=in-line_link\">Brexit </a>wasn’t just about leaving the European Union, it was about a new different kind of politics in this country inside the formal institutions,” he said.</p> <p>“Well, three and a half years on, we find that Brexit has not been completely done. The United Kingdom has been hived off and is still being controlled by the European Commission.”</p> <p>Mr Farage ruled out returning to front line politics, insisting that his role in Reform UK “is honorary and advisory”.</p> <p>Reform UK held the press conference to announce that 11 former Brexit Party MEPs – including Ben Habib, Belinda de Lucy, Jonathan Bullock and Ann Widdecombe – were joining the party, having not rejoined when the party renamed.</p> <p>Mr Habib, who was a Brexit Party MEP from 2019 until the UK’s departure from the EU, said he would “throw my full weight” behind the party to ensure that “no stone is left unturned to hold the Tory Government to account and eject it from office in 2024”.</p> <p>Former MP and Brexit Party MEP, Ms Widdecombe, stated she was joining Reform UK because “it is very clear that it is the only way to save the Union”.</p> <p>She went on to criticise <a href=\"https://inews.co.uk/news/politics/brexit-deal-rishi-sunak-dup-vote-aganst-windsor-framework-this-week-2221127?ico=in-line_link\">the Prime Minister’s Brexit deal</a>, which is due to be voted on by MPs on Wednesday, adding: “We have left Northern Ireland in the single market while the rest of the UK has withdrawn. </p> <p>“And yet it was made extremely clear in the Conservative Party manifesto that when we left the EU, we would leave as one United Kingdom.”</p> <p>“We didn’t say we were going to leave part of the United Kingdom behind in the EU, that part of the United Kingdom would be governed partly by the EU, that large tranches of its legislation would be set by the EU, that the EU would judge and still have jurisdiction over Northern Ireland,” she continued.</p> <p>She also accused many current Tory MPs, including many “former quite strong Brexiteers”, of only backing Mr Sunak’s Brexit deal because “they can see a general election on the horizon”.</p> <p class=\"inews__footer__copyright\">All rights reserved. © 2021 Associated Newspapers Limited.</p>'"
      ]
     },
     "execution_count": 5,
     "metadata": {},
     "output_type": "execute_result"
    }
   ],
   "source": [
    "copy"
   ]
  },
  {
   "cell_type": "code",
   "execution_count": null,
   "metadata": {},
   "outputs": [],
   "source": []
  }
 ],
 "metadata": {
  "kernelspec": {
   "display_name": "Streamlit-Wy1v_7eu",
   "language": "python",
   "name": "python3"
  },
  "language_info": {
   "codemirror_mode": {
    "name": "ipython",
    "version": 3
   },
   "file_extension": ".py",
   "mimetype": "text/x-python",
   "name": "python",
   "nbconvert_exporter": "python",
   "pygments_lexer": "ipython3",
   "version": "3.10.3"
  },
  "orig_nbformat": 4
 },
 "nbformat": 4,
 "nbformat_minor": 2
}
